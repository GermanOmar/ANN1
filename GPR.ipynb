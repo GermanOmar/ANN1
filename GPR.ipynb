{
  "nbformat": 4,
  "nbformat_minor": 0,
  "metadata": {
    "colab": {
      "name": "GPR.ipynb",
      "provenance": [],
      "toc_visible": true,
      "authorship_tag": "ABX9TyMgZJB1TlyYquSdc+bSovpV",
      "include_colab_link": true
    },
    "kernelspec": {
      "name": "python3",
      "display_name": "Python 3"
    }
  },
  "cells": [
    {
      "cell_type": "markdown",
      "metadata": {
        "id": "view-in-github",
        "colab_type": "text"
      },
      "source": [
        "<a href=\"https://colab.research.google.com/github/GermanOmar/ANN1/blob/main/GPR.ipynb\" target=\"_parent\"><img src=\"https://colab.research.google.com/assets/colab-badge.svg\" alt=\"Open In Colab\"/></a>"
      ]
    },
    {
      "cell_type": "markdown",
      "metadata": {
        "id": "jeOb51knfYE1"
      },
      "source": [
        "#GAUSSIAN PROCESS REGRESSOR"
      ]
    },
    {
      "cell_type": "code",
      "metadata": {
        "id": "d-OzuueGfVLV",
        "outputId": "6ed8d161-c424-42e5-893e-3141090c42d2",
        "colab": {
          "base_uri": "https://localhost:8080/",
          "height": 188
        }
      },
      "source": [
        "!pip install -q \"tqdm>=4.36.1\"\n",
        "!pip install -U tensorflow-addons"
      ],
      "execution_count": 1,
      "outputs": [
        {
          "output_type": "stream",
          "text": [
            "Collecting tensorflow-addons\n",
            "\u001b[?25l  Downloading https://files.pythonhosted.org/packages/b3/f8/d6fca180c123f2851035c4493690662ebdad0849a9059d56035434bff5c9/tensorflow_addons-0.11.2-cp36-cp36m-manylinux2010_x86_64.whl (1.1MB)\n",
            "\u001b[K     |████████████████████████████████| 1.1MB 2.7MB/s \n",
            "\u001b[?25hRequirement already satisfied, skipping upgrade: typeguard>=2.7 in /usr/local/lib/python3.6/dist-packages (from tensorflow-addons) (2.7.1)\n",
            "Installing collected packages: tensorflow-addons\n",
            "  Found existing installation: tensorflow-addons 0.8.3\n",
            "    Uninstalling tensorflow-addons-0.8.3:\n",
            "      Successfully uninstalled tensorflow-addons-0.8.3\n",
            "Successfully installed tensorflow-addons-0.11.2\n"
          ],
          "name": "stdout"
        }
      ]
    },
    {
      "cell_type": "code",
      "metadata": {
        "id": "iOu1Y1gJfk0u"
      },
      "source": [
        "import numpy as np\n",
        "import pandas as pd\n",
        "from sklearn import preprocessing\n",
        "import matplotlib.pyplot as plt \n",
        "import tensorflow_addons as tfa\n",
        "from sklearn.inspection import permutation_importance"
      ],
      "execution_count": 2,
      "outputs": []
    },
    {
      "cell_type": "code",
      "metadata": {
        "id": "MEtg2Hknfts6",
        "outputId": "a6c8bf67-52b7-4d69-b632-c0a8d6938188",
        "colab": {
          "base_uri": "https://localhost:8080/",
          "height": 284
        }
      },
      "source": [
        "data = pd.read_table('DATA.txt', header=None) \n",
        "data.describe()"
      ],
      "execution_count": 3,
      "outputs": [
        {
          "output_type": "execute_result",
          "data": {
            "text/html": [
              "<div>\n",
              "<style scoped>\n",
              "    .dataframe tbody tr th:only-of-type {\n",
              "        vertical-align: middle;\n",
              "    }\n",
              "\n",
              "    .dataframe tbody tr th {\n",
              "        vertical-align: top;\n",
              "    }\n",
              "\n",
              "    .dataframe thead th {\n",
              "        text-align: right;\n",
              "    }\n",
              "</style>\n",
              "<table border=\"1\" class=\"dataframe\">\n",
              "  <thead>\n",
              "    <tr style=\"text-align: right;\">\n",
              "      <th></th>\n",
              "      <th>0</th>\n",
              "      <th>1</th>\n",
              "      <th>2</th>\n",
              "      <th>3</th>\n",
              "      <th>4</th>\n",
              "      <th>5</th>\n",
              "    </tr>\n",
              "  </thead>\n",
              "  <tbody>\n",
              "    <tr>\n",
              "      <th>count</th>\n",
              "      <td>104.000000</td>\n",
              "      <td>104.000000</td>\n",
              "      <td>104.000000</td>\n",
              "      <td>104.000000</td>\n",
              "      <td>104.000000</td>\n",
              "      <td>104.000000</td>\n",
              "    </tr>\n",
              "    <tr>\n",
              "      <th>mean</th>\n",
              "      <td>151.666731</td>\n",
              "      <td>760.617500</td>\n",
              "      <td>0.031154</td>\n",
              "      <td>0.089615</td>\n",
              "      <td>34.852308</td>\n",
              "      <td>97.635865</td>\n",
              "    </tr>\n",
              "    <tr>\n",
              "      <th>std</th>\n",
              "      <td>57.027410</td>\n",
              "      <td>441.185814</td>\n",
              "      <td>0.012012</td>\n",
              "      <td>0.026946</td>\n",
              "      <td>5.383197</td>\n",
              "      <td>1.876156</td>\n",
              "    </tr>\n",
              "    <tr>\n",
              "      <th>min</th>\n",
              "      <td>70.000000</td>\n",
              "      <td>111.000000</td>\n",
              "      <td>0.020000</td>\n",
              "      <td>0.030000</td>\n",
              "      <td>16.000000</td>\n",
              "      <td>91.200000</td>\n",
              "    </tr>\n",
              "    <tr>\n",
              "      <th>25%</th>\n",
              "      <td>100.000000</td>\n",
              "      <td>400.000000</td>\n",
              "      <td>0.020000</td>\n",
              "      <td>0.077500</td>\n",
              "      <td>30.000000</td>\n",
              "      <td>96.950000</td>\n",
              "    </tr>\n",
              "    <tr>\n",
              "      <th>50%</th>\n",
              "      <td>150.000000</td>\n",
              "      <td>707.000000</td>\n",
              "      <td>0.030000</td>\n",
              "      <td>0.090000</td>\n",
              "      <td>35.500000</td>\n",
              "      <td>98.330000</td>\n",
              "    </tr>\n",
              "    <tr>\n",
              "      <th>75%</th>\n",
              "      <td>200.000000</td>\n",
              "      <td>1000.000000</td>\n",
              "      <td>0.040000</td>\n",
              "      <td>0.110000</td>\n",
              "      <td>38.000000</td>\n",
              "      <td>98.905000</td>\n",
              "    </tr>\n",
              "    <tr>\n",
              "      <th>max</th>\n",
              "      <td>300.000000</td>\n",
              "      <td>2000.000000</td>\n",
              "      <td>0.050000</td>\n",
              "      <td>0.150000</td>\n",
              "      <td>48.000000</td>\n",
              "      <td>99.900000</td>\n",
              "    </tr>\n",
              "  </tbody>\n",
              "</table>\n",
              "</div>"
            ],
            "text/plain": [
              "                0            1           2           3           4           5\n",
              "count  104.000000   104.000000  104.000000  104.000000  104.000000  104.000000\n",
              "mean   151.666731   760.617500    0.031154    0.089615   34.852308   97.635865\n",
              "std     57.027410   441.185814    0.012012    0.026946    5.383197    1.876156\n",
              "min     70.000000   111.000000    0.020000    0.030000   16.000000   91.200000\n",
              "25%    100.000000   400.000000    0.020000    0.077500   30.000000   96.950000\n",
              "50%    150.000000   707.000000    0.030000    0.090000   35.500000   98.330000\n",
              "75%    200.000000  1000.000000    0.040000    0.110000   38.000000   98.905000\n",
              "max    300.000000  2000.000000    0.050000    0.150000   48.000000   99.900000"
            ]
          },
          "metadata": {
            "tags": []
          },
          "execution_count": 3
        }
      ]
    },
    {
      "cell_type": "code",
      "metadata": {
        "id": "cKnRGsnUfyYE",
        "outputId": "7bc51649-3927-4a41-9187-acea6ca97ffd",
        "colab": {
          "base_uri": "https://localhost:8080/",
          "height": 218
        }
      },
      "source": [
        "X=data.loc[:,0:4]\n",
        "Y=data.loc[:,5]\n",
        "\n",
        "print(Y)"
      ],
      "execution_count": 4,
      "outputs": [
        {
          "output_type": "stream",
          "text": [
            "0      95.90\n",
            "1      95.70\n",
            "2      98.90\n",
            "3      98.84\n",
            "4      98.68\n",
            "       ...  \n",
            "99     98.71\n",
            "100    99.21\n",
            "101    95.20\n",
            "102    98.25\n",
            "103    99.90\n",
            "Name: 5, Length: 104, dtype: float64\n"
          ],
          "name": "stdout"
        }
      ]
    },
    {
      "cell_type": "code",
      "metadata": {
        "id": "a7evNjG9fzKd"
      },
      "source": [
        "def normalize(X, X_mu, X_std):\n",
        "  return (X - X_mu)/X_std\n",
        "\n",
        "def denormalize(Xn, X_mu, X_std):\n",
        "  return Xn*X_std + X_mu\n",
        "\n",
        "\n",
        "X_std = X.std(0)\n",
        "X_mu = X.mean(0)\n",
        "Xn = normalize(X, X_mu, X_std)\n",
        "\n",
        "Y_std = Y.std(0)\n",
        "Y_mu = Y.mean(0)\n",
        "Yn = normalize(Y, Y_mu, Y_std)"
      ],
      "execution_count": 6,
      "outputs": []
    },
    {
      "cell_type": "code",
      "metadata": {
        "id": "fkpUzdqqgBT0",
        "outputId": "5e2b6679-fcfd-4222-c95d-086a069b6de3",
        "colab": {
          "base_uri": "https://localhost:8080/",
          "height": 34
        }
      },
      "source": [
        "from sklearn.model_selection import train_test_split\n",
        "X_train, X_test, y_train, y_test = train_test_split(Xn, Yn, test_size=0.2, random_state=2)\n",
        "#X_train, X_val, y_train, y_val = train_test_split(X_train, y_train, test_size=0.19, random_state=32)\n",
        "print('training samples:', X_train.shape[0], 'test samples:', X_test.shape[0])"
      ],
      "execution_count": 7,
      "outputs": [
        {
          "output_type": "stream",
          "text": [
            "training samples: 83 test samples: 21\n"
          ],
          "name": "stdout"
        }
      ]
    },
    {
      "cell_type": "markdown",
      "metadata": {
        "id": "lrGCCUfdfWkK"
      },
      "source": [
        "HYPERPARAMETERS"
      ]
    },
    {
      "cell_type": "code",
      "metadata": {
        "id": "oou41o98gIat"
      },
      "source": [
        "from sklearn.gaussian_process import GaussianProcessRegressor\n",
        "from sklearn.gaussian_process.kernels import RBF, ConstantKernel as C\n",
        "kernel = C(1.0, (1e-3, 1e3)) * RBF(10, (1e-2, 1e2))\n",
        "#KERNEL\n",
        "#params = {kernel, n_restarts_optimizer=0, alpha=0.1, normalize_y=True, optimizer='fmin_l_bfgs_b', random_state=None}\n",
        "\n",
        "model = GaussianProcessRegressor(kernel, n_restarts_optimizer=0, alpha=0.01, normalize_y=False, optimizer='fmin_l_bfgs_b', random_state=42)"
      ],
      "execution_count": 23,
      "outputs": []
    },
    {
      "cell_type": "code",
      "metadata": {
        "id": "AZ4pfJa_gjpa",
        "outputId": "c57ba728-c88a-44f3-f72d-f079c34a1026",
        "colab": {
          "base_uri": "https://localhost:8080/",
          "height": 34
        }
      },
      "source": [
        "tqdm_callback = tfa.callbacks.TQDMProgressBar(show_epoch_progress = False, leave_overall_progress = True)\n",
        "\n",
        "history = model.fit(X_train,y_train)\n",
        "\n",
        "from sklearn.metrics import mean_squared_error\n",
        "mse = mean_squared_error(y_test, model.predict(X_test))\n",
        "print(\"The mean squared error (MSE) on test set: {:.4f}\".format(mse))"
      ],
      "execution_count": 25,
      "outputs": [
        {
          "output_type": "stream",
          "text": [
            "The mean squared error (MSE) on test set: 0.2504\n"
          ],
          "name": "stdout"
        }
      ]
    },
    {
      "cell_type": "code",
      "metadata": {
        "id": "tnPRzgrJgnIi",
        "outputId": "24f688a1-9968-4abb-d8c3-4395accf096e",
        "colab": {
          "base_uri": "https://localhost:8080/",
          "height": 656
        }
      },
      "source": [
        "import seaborn as sns\n",
        "sns.set()\n",
        "\"\"\"\n",
        "test_score = np.zeros((params['n_estimators'],), dtype=np.float64)\n",
        "for i, y_pred in enumerate(model.staged_predict(X_test)):\n",
        "    test_score[i] = model.loss_(y_test, y_pred)\n",
        "\n",
        "#fig = plt.figure(figsize=(7, 5))\n",
        "plt.subplot(1, 1, 1)\n",
        "plt.title('Deviance')\n",
        "plt.plot(np.arange(params['n_estimators']) + 1, model.train_score_, label='Training loss')\n",
        "plt.plot(np.arange(params['n_estimators']) + 1, test_score, label='Test loss')\n",
        "plt.legend(loc='upper right')\n",
        "plt.xlabel('Boosting Iterations')\n",
        "plt.ylabel('Deviance')\n",
        "#fig.tight_layout()\n",
        "\"\"\"\n",
        "#PREDICTION\n",
        "y_star_train = model.predict(X_train)\n",
        "#y_star_val = model.predict(X_val)\n",
        "y_star_test = model.predict(X_test)\n",
        "\n",
        "#plotting...\n",
        "plt.figure()\n",
        "plt.plot(y_train, y_star_train, 'r.')\n",
        "plt.plot([y_star_train.min(), y_star_train.max()], [y_star_train.min(), y_star_train.max()], 'k--')\n",
        "plt.ylabel('$y^*_{train}$')\n",
        "plt.xlabel('$y_{train}$')\n",
        "\n",
        "plt.figure()\n",
        "plt.plot(y_test, y_star_test, 'b.')\n",
        "plt.plot([y_star_test.min(), y_star_test.max()], [y_star_test.min(), y_star_test.max()], 'k--')\n",
        "plt.ylabel('$y^*_{test}$')\n",
        "plt.xlabel('$y_{test}$')\n",
        "\n",
        "from sklearn.metrics import mean_squared_error\n",
        "MSE_test = mean_squared_error(y_test, y_star_test)\n",
        "MSE_train = mean_squared_error(y_train, y_star_train)\n",
        "\n",
        "print('MSE train:', MSE_train)\n",
        "print('MSE test:', MSE_test)\n",
        "print(\"MSE train < MSE test?\", MSE_train < MSE_test)\n",
        "print()\n",
        "from sklearn.metrics import r2_score\n",
        "R2_train=r2_score(y_train, y_star_train)\n",
        "print('R2_train: ',R2_train)\n",
        "R2_test=r2_score(y_test, y_star_test)\n",
        "print('R2_test: ',R2_test)"
      ],
      "execution_count": 26,
      "outputs": [
        {
          "output_type": "stream",
          "text": [
            "MSE train: 0.05739756531751276\n",
            "MSE test: 0.250435815232678\n",
            "MSE train < MSE test? True\n",
            "\n",
            "R2_train:  0.9466714670405411\n",
            "R2_test:  0.6132808305014417\n"
          ],
          "name": "stdout"
        },
        {
          "output_type": "display_data",
          "data": {
            "image/png": "[encoded data removed]",
            "text/plain": [
              "<Figure size 432x288 with 1 Axes>"
            ]
          },
          "metadata": {
            "tags": []
          }
        },
        {
          "output_type": "display_data",
          "data": {
            "image/png": "[encoded data removed]",
            "text/plain": [
              "<Figure size 432x288 with 1 Axes>"
            ]
          },
          "metadata": {
            "tags": []
          }
        }
      ]
    }
  ]
}